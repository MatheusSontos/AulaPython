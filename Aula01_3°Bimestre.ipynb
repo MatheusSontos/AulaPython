{
  "nbformat": 4,
  "nbformat_minor": 0,
  "metadata": {
    "colab": {
      "provenance": [],
      "authorship_tag": "ABX9TyN9u3tQ5jqe0SSeCUablihF",
      "include_colab_link": true
    },
    "kernelspec": {
      "name": "python3",
      "display_name": "Python 3"
    },
    "language_info": {
      "name": "python"
    }
  },
  "cells": [
    {
      "cell_type": "markdown",
      "metadata": {
        "id": "view-in-github",
        "colab_type": "text"
      },
      "source": [
        "<a href=\"https://colab.research.google.com/github/MatheusSontos/AulaPython/blob/main/Aula01_3%C2%B0Bimestre.ipynb\" target=\"_parent\"><img src=\"https://colab.research.google.com/assets/colab-badge.svg\" alt=\"Open In Colab\"/></a>"
      ]
    },
    {
      "cell_type": "markdown",
      "source": [
        "Exemplo 1 - Somando dois números"
      ],
      "metadata": {
        "id": "FPGeJCExFjS8"
      }
    },
    {
      "cell_type": "code",
      "source": [
        "n1 = 12\n",
        "n2 = 10\n",
        "soma = n1 + n2\n",
        "soma"
      ],
      "metadata": {
        "colab": {
          "base_uri": "https://localhost:8080/"
        },
        "id": "15pAjA76Ftwe",
        "outputId": "4ef6bb94-e5db-4a65-c374-0ffb7d445b6f"
      },
      "execution_count": 1,
      "outputs": [
        {
          "output_type": "execute_result",
          "data": {
            "text/plain": [
              "22"
            ]
          },
          "metadata": {},
          "execution_count": 1
        }
      ]
    },
    {
      "cell_type": "code",
      "source": [
        "print(\"A somo é: \",soma)"
      ],
      "metadata": {
        "colab": {
          "base_uri": "https://localhost:8080/"
        },
        "id": "tVVK436uGR1i",
        "outputId": "ec8c9c43-3c40-4425-9158-fb210b469167"
      },
      "execution_count": 2,
      "outputs": [
        {
          "output_type": "stream",
          "name": "stdout",
          "text": [
            "A somo é:  22\n"
          ]
        }
      ]
    },
    {
      "cell_type": "code",
      "source": [
        "print(\"A soma é {} \".format(soma))\n"
      ],
      "metadata": {
        "colab": {
          "base_uri": "https://localhost:8080/"
        },
        "id": "PrHF4aOgGm3Z",
        "outputId": "e9b7d6d5-e9b3-4982-a362-c12d2e9ee284"
      },
      "execution_count": 4,
      "outputs": [
        {
          "output_type": "stream",
          "name": "stdout",
          "text": [
            "A soma é 22 \n"
          ]
        }
      ]
    },
    {
      "cell_type": "code",
      "source": [
        "print(\"A soma de {} com {} é {}\".format(n1,n2,soma))"
      ],
      "metadata": {
        "colab": {
          "base_uri": "https://localhost:8080/"
        },
        "id": "T_kiDiUJHnjb",
        "outputId": "51c23890-7993-4e98-d1ef-8963d726583c"
      },
      "execution_count": 5,
      "outputs": [
        {
          "output_type": "stream",
          "name": "stdout",
          "text": [
            "A soma de 12 com 10 é 22\n"
          ]
        }
      ]
    },
    {
      "cell_type": "markdown",
      "source": [
        "Operados Aritimedios\n"
      ],
      "metadata": {
        "id": "XKBi686qIDGA"
      }
    },
    {
      "cell_type": "code",
      "source": [
        "10 + 10"
      ],
      "metadata": {
        "colab": {
          "base_uri": "https://localhost:8080/"
        },
        "id": "XyI59I1MIR75",
        "outputId": "5283e5f7-494e-401e-ef2f-b8cf215c3146"
      },
      "execution_count": 6,
      "outputs": [
        {
          "output_type": "execute_result",
          "data": {
            "text/plain": [
              "20"
            ]
          },
          "metadata": {},
          "execution_count": 6
        }
      ]
    },
    {
      "cell_type": "code",
      "source": [
        "10 -5"
      ],
      "metadata": {
        "colab": {
          "base_uri": "https://localhost:8080/"
        },
        "id": "vEXrgrdeIWhQ",
        "outputId": "2ab83278-6a19-4274-83e2-ad50f9aef8f6"
      },
      "execution_count": 7,
      "outputs": [
        {
          "output_type": "execute_result",
          "data": {
            "text/plain": [
              "5"
            ]
          },
          "metadata": {},
          "execution_count": 7
        }
      ]
    },
    {
      "cell_type": "code",
      "source": [
        "10 * 2"
      ],
      "metadata": {
        "colab": {
          "base_uri": "https://localhost:8080/"
        },
        "id": "CVfn61cvIZL6",
        "outputId": "c1c5c63e-c385-47f1-b827-614458b2d504"
      },
      "execution_count": 8,
      "outputs": [
        {
          "output_type": "execute_result",
          "data": {
            "text/plain": [
              "20"
            ]
          },
          "metadata": {},
          "execution_count": 8
        }
      ]
    },
    {
      "cell_type": "code",
      "source": [
        "10/3"
      ],
      "metadata": {
        "colab": {
          "base_uri": "https://localhost:8080/"
        },
        "id": "lcQ3Ue09Icoz",
        "outputId": "944aae7d-d02f-4c69-c5f9-7035990a0cae"
      },
      "execution_count": 9,
      "outputs": [
        {
          "output_type": "execute_result",
          "data": {
            "text/plain": [
              "3.3333333333333335"
            ]
          },
          "metadata": {},
          "execution_count": 9
        }
      ]
    },
    {
      "cell_type": "code",
      "source": [
        "10//2"
      ],
      "metadata": {
        "colab": {
          "base_uri": "https://localhost:8080/"
        },
        "id": "ThzvwbjfIfPP",
        "outputId": "845580a2-3426-43c6-de57-a135709159bb"
      },
      "execution_count": 10,
      "outputs": [
        {
          "output_type": "execute_result",
          "data": {
            "text/plain": [
              "5"
            ]
          },
          "metadata": {},
          "execution_count": 10
        }
      ]
    },
    {
      "cell_type": "code",
      "source": [
        "10%2"
      ],
      "metadata": {
        "colab": {
          "base_uri": "https://localhost:8080/"
        },
        "id": "Lg_BvEgkIhMF",
        "outputId": "e4045b5d-2d90-43a0-c4da-77a47be9a9e2"
      },
      "execution_count": 11,
      "outputs": [
        {
          "output_type": "execute_result",
          "data": {
            "text/plain": [
              "0"
            ]
          },
          "metadata": {},
          "execution_count": 11
        }
      ]
    },
    {
      "cell_type": "code",
      "source": [
        "2**3\n"
      ],
      "metadata": {
        "colab": {
          "base_uri": "https://localhost:8080/"
        },
        "id": "i1VjgnnGJBQC",
        "outputId": "57edf4a8-8c83-4377-b668-0fdd498e528f"
      },
      "execution_count": 12,
      "outputs": [
        {
          "output_type": "execute_result",
          "data": {
            "text/plain": [
              "8"
            ]
          },
          "metadata": {},
          "execution_count": 12
        }
      ]
    },
    {
      "cell_type": "code",
      "source": [
        "64**(1/2)"
      ],
      "metadata": {
        "colab": {
          "base_uri": "https://localhost:8080/"
        },
        "id": "G83rdmneJM9C",
        "outputId": "6532e901-8078-4e41-9a2f-ab49f05b4bd2"
      },
      "execution_count": 13,
      "outputs": [
        {
          "output_type": "execute_result",
          "data": {
            "text/plain": [
              "8.0"
            ]
          },
          "metadata": {},
          "execution_count": 13
        }
      ]
    },
    {
      "cell_type": "code",
      "source": [],
      "metadata": {
        "id": "U-wkUNg2JkcV"
      },
      "execution_count": null,
      "outputs": []
    },
    {
      "cell_type": "markdown",
      "source": [
        "Operadores Lógicos"
      ],
      "metadata": {
        "id": "UUyr49bjJzMI"
      }
    },
    {
      "cell_type": "code",
      "source": [
        "a = True\n",
        "b = False"
      ],
      "metadata": {
        "id": "ZgXon2_WJ3Ob"
      },
      "execution_count": 14,
      "outputs": []
    },
    {
      "cell_type": "code",
      "source": [
        "a and b"
      ],
      "metadata": {
        "colab": {
          "base_uri": "https://localhost:8080/"
        },
        "id": "8OyEArgsKkDb",
        "outputId": "7ac0ed07-0365-47c9-d07a-9a5e35ddc64a"
      },
      "execution_count": 15,
      "outputs": [
        {
          "output_type": "execute_result",
          "data": {
            "text/plain": [
              "False"
            ]
          },
          "metadata": {},
          "execution_count": 15
        }
      ]
    },
    {
      "cell_type": "markdown",
      "source": [
        "![image.png](data:image/png;base64,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)"
      ],
      "metadata": {
        "id": "u95pkItFM7Lg"
      }
    },
    {
      "cell_type": "markdown",
      "source": [
        "Operadores Relacionais"
      ],
      "metadata": {
        "id": "DJlXLwCMOD0G"
      }
    },
    {
      "cell_type": "code",
      "source": [
        "10 > 10"
      ],
      "metadata": {
        "colab": {
          "base_uri": "https://localhost:8080/"
        },
        "id": "3YIIN7r4OHmf",
        "outputId": "92f8c8ed-ba17-420b-9d0d-3bc0aecd39ee"
      },
      "execution_count": 18,
      "outputs": [
        {
          "output_type": "execute_result",
          "data": {
            "text/plain": [
              "False"
            ]
          },
          "metadata": {},
          "execution_count": 18
        }
      ]
    },
    {
      "cell_type": "code",
      "source": [
        "10 == 10"
      ],
      "metadata": {
        "colab": {
          "base_uri": "https://localhost:8080/"
        },
        "id": "omQupj3DOJ6f",
        "outputId": "f525452b-f8c2-4597-d71f-504749822db9"
      },
      "execution_count": 19,
      "outputs": [
        {
          "output_type": "execute_result",
          "data": {
            "text/plain": [
              "True"
            ]
          },
          "metadata": {},
          "execution_count": 19
        }
      ]
    },
    {
      "cell_type": "code",
      "source": [
        "'A' == 'a'"
      ],
      "metadata": {
        "colab": {
          "base_uri": "https://localhost:8080/"
        },
        "id": "TZIF8eWWM-Cq",
        "outputId": "2ce00c86-8f97-416b-96d0-2c8249495f25"
      },
      "execution_count": 16,
      "outputs": [
        {
          "output_type": "execute_result",
          "data": {
            "text/plain": [
              "False"
            ]
          },
          "metadata": {},
          "execution_count": 16
        }
      ]
    },
    {
      "cell_type": "code",
      "source": [
        "t1 = 10\n",
        "t2 = '10'\n",
        "t1 == t2"
      ],
      "metadata": {
        "colab": {
          "base_uri": "https://localhost:8080/"
        },
        "id": "ztFQfe28OM6p",
        "outputId": "7e1d335d-101e-43bc-e5e9-9bccab55435a"
      },
      "execution_count": 20,
      "outputs": [
        {
          "output_type": "execute_result",
          "data": {
            "text/plain": [
              "False"
            ]
          },
          "metadata": {},
          "execution_count": 20
        }
      ]
    },
    {
      "cell_type": "code",
      "source": [
        "type(t1)\n"
      ],
      "metadata": {
        "colab": {
          "base_uri": "https://localhost:8080/"
        },
        "id": "AajlX5zpOrQ3",
        "outputId": "7cc1d92f-6138-426b-f79a-a875354ff0e8"
      },
      "execution_count": 23,
      "outputs": [
        {
          "output_type": "execute_result",
          "data": {
            "text/plain": [
              "int"
            ]
          },
          "metadata": {},
          "execution_count": 23
        }
      ]
    },
    {
      "cell_type": "code",
      "source": [
        "type(t2)"
      ],
      "metadata": {
        "colab": {
          "base_uri": "https://localhost:8080/"
        },
        "id": "XzqzLnRLPB_w",
        "outputId": "556383b9-6f96-4d8b-c8ef-3f92ead63680"
      },
      "execution_count": 22,
      "outputs": [
        {
          "output_type": "execute_result",
          "data": {
            "text/plain": [
              "str"
            ]
          },
          "metadata": {},
          "execution_count": 22
        }
      ]
    },
    {
      "cell_type": "markdown",
      "source": [
        "Converção de tipos"
      ],
      "metadata": {
        "id": "awrgY-X3PMa-"
      }
    },
    {
      "cell_type": "code",
      "source": [
        "novo_t2 = int(t2)\n",
        "novo_t2"
      ],
      "metadata": {
        "colab": {
          "base_uri": "https://localhost:8080/"
        },
        "id": "tLmYRaCdPQem",
        "outputId": "220ba4f5-0133-41df-e1ad-193e8c4a4277"
      },
      "execution_count": 24,
      "outputs": [
        {
          "output_type": "execute_result",
          "data": {
            "text/plain": [
              "10"
            ]
          },
          "metadata": {},
          "execution_count": 24
        }
      ]
    },
    {
      "cell_type": "code",
      "source": [
        "type(novo_t2)"
      ],
      "metadata": {
        "colab": {
          "base_uri": "https://localhost:8080/"
        },
        "id": "bjm9zgxmPZxm",
        "outputId": "c3978988-26ee-410d-e28a-035b96f4b973"
      },
      "execution_count": 25,
      "outputs": [
        {
          "output_type": "execute_result",
          "data": {
            "text/plain": [
              "int"
            ]
          },
          "metadata": {},
          "execution_count": 25
        }
      ]
    },
    {
      "cell_type": "code",
      "source": [
        "t1 == novo_t2"
      ],
      "metadata": {
        "colab": {
          "base_uri": "https://localhost:8080/"
        },
        "id": "Smg5HeGcPqz_",
        "outputId": "facc7bb0-09c0-4328-8b10-9ed8556fdc8a"
      },
      "execution_count": 27,
      "outputs": [
        {
          "output_type": "execute_result",
          "data": {
            "text/plain": [
              "True"
            ]
          },
          "metadata": {},
          "execution_count": 27
        }
      ]
    },
    {
      "cell_type": "markdown",
      "source": [
        "Recebendo dados via input"
      ],
      "metadata": {
        "id": "YNHipRm9P9ce"
      }
    },
    {
      "cell_type": "code",
      "source": [
        "nome = input('Digite seu nome')"
      ],
      "metadata": {
        "colab": {
          "base_uri": "https://localhost:8080/"
        },
        "id": "4I6SIl1VQF2q",
        "outputId": "267394d0-1390-414b-b312-29ba1727fbb1"
      },
      "execution_count": 28,
      "outputs": [
        {
          "name": "stdout",
          "output_type": "stream",
          "text": [
            "Digite seu nome Matheus \n"
          ]
        }
      ]
    },
    {
      "cell_type": "code",
      "source": [
        "nome"
      ],
      "metadata": {
        "colab": {
          "base_uri": "https://localhost:8080/",
          "height": 35
        },
        "id": "0GlFajHTQNGm",
        "outputId": "0095c2c1-8a41-46d1-e911-da7de130c582"
      },
      "execution_count": 29,
      "outputs": [
        {
          "output_type": "execute_result",
          "data": {
            "text/plain": [
              "'Matheus '"
            ],
            "application/vnd.google.colaboratory.intrinsic+json": {
              "type": "string"
            }
          },
          "metadata": {},
          "execution_count": 29
        }
      ]
    },
    {
      "cell_type": "code",
      "source": [
        "idade = int(input('Digite sua idade '))"
      ],
      "metadata": {
        "colab": {
          "base_uri": "https://localhost:8080/"
        },
        "id": "m2AQAhw6QX9U",
        "outputId": "f047ac90-5d20-49a3-c4f3-651c57ebf160"
      },
      "execution_count": 33,
      "outputs": [
        {
          "name": "stdout",
          "output_type": "stream",
          "text": [
            "Digite sua idade 15\n"
          ]
        }
      ]
    },
    {
      "cell_type": "code",
      "source": [
        "idade"
      ],
      "metadata": {
        "colab": {
          "base_uri": "https://localhost:8080/"
        },
        "id": "QIFh8htfQe9f",
        "outputId": "d8df5fa9-53ef-41d7-91d9-ecd130a36526"
      },
      "execution_count": 34,
      "outputs": [
        {
          "output_type": "execute_result",
          "data": {
            "text/plain": [
              "15"
            ]
          },
          "metadata": {},
          "execution_count": 34
        }
      ]
    },
    {
      "cell_type": "code",
      "source": [
        "nas = 2023 - idade"
      ],
      "metadata": {
        "id": "M2EcY0W4RSrP"
      },
      "execution_count": 35,
      "outputs": []
    },
    {
      "cell_type": "code",
      "source": [
        "nas"
      ],
      "metadata": {
        "colab": {
          "base_uri": "https://localhost:8080/"
        },
        "id": "DWVG09AWRY1v",
        "outputId": "64ec5f49-fbae-495b-a73c-543e03009a45"
      },
      "execution_count": 36,
      "outputs": [
        {
          "output_type": "execute_result",
          "data": {
            "text/plain": [
              "2008"
            ]
          },
          "metadata": {},
          "execution_count": 36
        }
      ]
    },
    {
      "cell_type": "code",
      "source": [
        "print(\"Olá {} você tem {} anos de idade e nasceu em {}\".format(nome,idade,nas))"
      ],
      "metadata": {
        "colab": {
          "base_uri": "https://localhost:8080/"
        },
        "id": "llno9llfRffI",
        "outputId": "1ad17c7a-1bf6-4496-d868-f2135372437f"
      },
      "execution_count": 38,
      "outputs": [
        {
          "output_type": "stream",
          "name": "stdout",
          "text": [
            "Olá Matheus  você tem 15 anos de idade e nasceu em 2008\n"
          ]
        }
      ]
    },
    {
      "cell_type": "markdown",
      "source": [
        "# **Exercício 01**\n",
        "  Receba 3 valores digitados via teclado e calcule a média destes valores. Exiba na tela da seguinte forma: 'A média dos valores é XXX'  "
      ],
      "metadata": {
        "id": "wO8a8BpMTnPe"
      }
    },
    {
      "cell_type": "markdown",
      "source": [
        "**Números inteiros**"
      ],
      "metadata": {
        "id": "7j6fqaJ2WwVl"
      }
    },
    {
      "cell_type": "code",
      "source": [
        "n1 = int(input('Digite um número '))\n",
        "\n",
        "n2 = int(input('Digite outro número '))\n",
        "\n",
        "n3 = int(input('digite outro número '))\n",
        "\n",
        "media = (n1+n2+n3)/3\n",
        "\n"
      ],
      "metadata": {
        "colab": {
          "base_uri": "https://localhost:8080/"
        },
        "id": "l_02cWksUWI3",
        "outputId": "d4ab3d5f-ec90-48f5-8e0b-64371dbea8c3"
      },
      "execution_count": 43,
      "outputs": [
        {
          "name": "stdout",
          "output_type": "stream",
          "text": [
            "Digite um número 15\n",
            "Digite outro número 20\n",
            "digite outro número 40\n"
          ]
        }
      ]
    },
    {
      "cell_type": "code",
      "source": [
        "media"
      ],
      "metadata": {
        "colab": {
          "base_uri": "https://localhost:8080/"
        },
        "id": "iJveoEB7VVed",
        "outputId": "1be16f02-a4ed-4c91-8150-036d17d74415"
      },
      "execution_count": 44,
      "outputs": [
        {
          "output_type": "execute_result",
          "data": {
            "text/plain": [
              "25.0"
            ]
          },
          "metadata": {},
          "execution_count": 44
        }
      ]
    },
    {
      "cell_type": "code",
      "source": [
        "print(\"A média dos valores {}, {} e {} é \".format(n1,n2,n3),media)"
      ],
      "metadata": {
        "colab": {
          "base_uri": "https://localhost:8080/"
        },
        "id": "ncy8LGOgVoJ0",
        "outputId": "7a34835d-b2d9-4470-890d-e648e9c71d58"
      },
      "execution_count": 46,
      "outputs": [
        {
          "output_type": "stream",
          "name": "stdout",
          "text": [
            "A média dos valores 15, 20 e 40 é  25.0\n"
          ]
        }
      ]
    },
    {
      "cell_type": "markdown",
      "source": [
        "**Números decimais**"
      ],
      "metadata": {
        "id": "V5U7tnO_Xa1s"
      }
    },
    {
      "cell_type": "code",
      "source": [
        "n1 = float(input('Digite um número '))\n",
        "\n",
        "n2 = float(input('Digite outro número '))\n",
        "\n",
        "n3 = float(input('digite outro número '))\n",
        "\n",
        "media = (n1+n2+n3)/3\n"
      ],
      "metadata": {
        "colab": {
          "base_uri": "https://localhost:8080/"
        },
        "id": "ZGXF5AQQWsJ-",
        "outputId": "224fe143-a474-4f01-ed00-bc4926600bd3"
      },
      "execution_count": 48,
      "outputs": [
        {
          "name": "stdout",
          "output_type": "stream",
          "text": [
            "Digite um número 10.6\n",
            "Digite outro número 50\n",
            "digite outro número 6.9\n"
          ]
        }
      ]
    },
    {
      "cell_type": "code",
      "source": [
        "media"
      ],
      "metadata": {
        "colab": {
          "base_uri": "https://localhost:8080/"
        },
        "id": "Arm0HAphX8LF",
        "outputId": "621dd3d5-f6e4-49af-80e7-eaf41e2ae241"
      },
      "execution_count": 49,
      "outputs": [
        {
          "output_type": "execute_result",
          "data": {
            "text/plain": [
              "22.5"
            ]
          },
          "metadata": {},
          "execution_count": 49
        }
      ]
    },
    {
      "cell_type": "code",
      "source": [
        "print(\"A média dos valores {}, {} e {} é \".format(n1,n2,n3),media)"
      ],
      "metadata": {
        "colab": {
          "base_uri": "https://localhost:8080/"
        },
        "id": "06mbf3O9YGpU",
        "outputId": "f36b1cc0-6463-4bfa-95b1-b27c1eeed8ea"
      },
      "execution_count": 50,
      "outputs": [
        {
          "output_type": "stream",
          "name": "stdout",
          "text": [
            "A média dos valores 10.6, 50.0 e 6.9 é  22.5\n"
          ]
        }
      ]
    },
    {
      "cell_type": "markdown",
      "source": [
        "# **Exercício 02**\n",
        " Solicite a largura e a Altura de uma parede. Sabendo que 1 litro de tinta consegue pintar 2m² de parede, informe quantos litros de tinta serão necessários para pintar a parede informada."
      ],
      "metadata": {
        "id": "Q-9faQwEd2qJ"
      }
    },
    {
      "cell_type": "code",
      "source": [
        "largura = float(input('Digite a largura da parede '))\n",
        "altura = float(input('Digite a altura da parede '))\n",
        "area = largura * altura\n"
      ],
      "metadata": {
        "colab": {
          "base_uri": "https://localhost:8080/"
        },
        "id": "qPDC3--afIai",
        "outputId": "31feba0d-4416-465d-8309-b7712232e3ed"
      },
      "execution_count": 60,
      "outputs": [
        {
          "name": "stdout",
          "output_type": "stream",
          "text": [
            "Digite a largura da parede 5.5\n",
            "Digite a altura da parede 1.8\n"
          ]
        }
      ]
    },
    {
      "cell_type": "code",
      "source": [
        "area"
      ],
      "metadata": {
        "colab": {
          "base_uri": "https://localhost:8080/"
        },
        "id": "GGSS0AIlgMPV",
        "outputId": "ab7e77ad-d818-46fd-fdcb-bbd512657d99"
      },
      "execution_count": 61,
      "outputs": [
        {
          "output_type": "execute_result",
          "data": {
            "text/plain": [
              "9.9"
            ]
          },
          "metadata": {},
          "execution_count": 61
        }
      ]
    },
    {
      "cell_type": "code",
      "source": [
        "litros = area/2"
      ],
      "metadata": {
        "id": "_X746DuugnzL"
      },
      "execution_count": 63,
      "outputs": []
    },
    {
      "cell_type": "code",
      "source": [
        "litros"
      ],
      "metadata": {
        "colab": {
          "base_uri": "https://localhost:8080/"
        },
        "id": "_gs-LM2tg4x9",
        "outputId": "508d6ba3-ccc3-4cf4-d717-2622205b6299"
      },
      "execution_count": 64,
      "outputs": [
        {
          "output_type": "execute_result",
          "data": {
            "text/plain": [
              "4.95"
            ]
          },
          "metadata": {},
          "execution_count": 64
        }
      ]
    },
    {
      "cell_type": "code",
      "source": [
        "print('Serão necessários',litros, 'litros de tinta para pintar uma parede de largura {}m e altura de {}m '.format(largura,altura))"
      ],
      "metadata": {
        "colab": {
          "base_uri": "https://localhost:8080/"
        },
        "id": "Vg6wDmzkg6WQ",
        "outputId": "c0b25673-17cb-4034-ac50-f93732fcf38b"
      },
      "execution_count": 65,
      "outputs": [
        {
          "output_type": "stream",
          "name": "stdout",
          "text": [
            "Serão necessários 4.95 litros de tinta para pintar uma parede de largura 5.5m e altura de 1.8m \n"
          ]
        }
      ]
    }
  ]
}